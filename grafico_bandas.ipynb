{
 "cells": [
  {
   "cell_type": "code",
   "execution_count": null,
   "metadata": {},
   "outputs": [],
   "source": [
    "#!/usr/bin/env python\n",
    "# This was written by Levi Lentz for the Kolpak Group at MIT\n",
    "# This is distributed under the MIT license\n",
    "import numpy as np\n",
    "import matplotlib.mlab as mlab\n",
    "import matplotlib.pyplot as plt\n",
    "import matplotlib.gridspec as gs\n",
    "import sys\n",
    " \n",
    "#This function extracts the high symmetry points from the output of bandx.out\n",
    "def Symmetries(fstring): \n",
    "    f = open(fstring,'r')\n",
    "    x = np.zeros(0)\n",
    "    for i in f:\n",
    "        if \"high-symmetry\" in i:\n",
    "            x = np.append(x,float(i.split()[-1]))\n",
    "    f.close()\n",
    "    return x\n",
    "\n",
    "# This function takes in the datafile, the fermi energy, the symmetry file, a subplot, and the label\n",
    "# It then extracts the band data, and plots the bands, the fermi energy in red, and the high symmetry points\n",
    "def bndplot(datafile,fermi,symmetryfile,subplot,label):\n",
    "    z = np.loadtxt(datafile) #This loads the bandx.dat.gnu file\n",
    "    x = np.unique(z[:,0]) #This is all the unique x-points\n",
    "    bands = []\n",
    "    bndl = len(z[z[:,0]==x[1]]) #This gives the number of bands in the calculation\n",
    "    Fermi = float(fermi)\n",
    "    axis = [min(x),max(x),Fermi - 4, Fermi + 4]\n",
    "    for i in range(0,bndl):\n",
    "        bands.append(np.zeros([len(x),2])) #This is where we storre the bands\n",
    "    for i in range(0,len(x)):\n",
    "        sel = z[z[:,0] == x[i]]  #Here is the energies for a given x\n",
    "        test = []\n",
    "        for j in range(0,bndl): #This separates it out into a single band\n",
    "            bands[j][i][0] = x[i]\n",
    "            bands[j][i][1] = np.multiply(sel[j][1],13.605698066)\n",
    "    for i in bands: #Here we plots the bands\n",
    "        subplot.plot(i[:,0],i[:,1],color=\"black\")\n",
    "    temp = Symmetries(symmetryfile)\n",
    "    for j in temp: #This is the high symmetry lines\n",
    "        x1 = [j,j]\n",
    "        x2 = [axis[2],axis[3]]\n",
    "        subplot.plot(x1,x2,'--',lw=0.55,color='black',alpha=0.75)\n",
    "    subplot.plot([min(x),max(x)],[Fermi,Fermi],color='red',)\n",
    "    subplot.set_xticklabels([])\n",
    "    subplot.set_ylim([axis[2],axis[3]])\n",
    "    subplot.set_xlim([axis[0],axis[1]])\n",
    "    subplot.text((axis[1]-axis[0])/2.0,axis[3]+0.2,label,va='center',ha='center',fontsize=20)\n",
    "  "
   ]
  }
 ],
 "metadata": {
  "kernelspec": {
   "display_name": "Python 2",
   "language": "python",
   "name": "python2"
  },
  "language_info": {
   "codemirror_mode": {
    "name": "ipython",
    "version": 2
   },
   "file_extension": ".py",
   "mimetype": "text/x-python",
   "name": "python",
   "nbconvert_exporter": "python",
   "pygments_lexer": "ipython2",
   "version": "2.7.15"
  }
 },
 "nbformat": 4,
 "nbformat_minor": 2
}
